{
 "cells": [
  {
   "cell_type": "code",
   "execution_count": 1,
   "metadata": {
    "collapsed": false
   },
   "outputs": [],
   "source": [
    "import pandas as pd\n",
    "from sklearn import neighbors\n",
    "from sklearn import cross_validation\n",
    "import numpy as np\n",
    "import cvxpy as cvx"
   ]
  },
  {
   "cell_type": "markdown",
   "metadata": {},
   "source": [
    "##Load data"
   ]
  },
  {
   "cell_type": "code",
   "execution_count": 2,
   "metadata": {
    "collapsed": false
   },
   "outputs": [
    {
     "data": {
      "text/html": [
       "<div>\n",
       "<table border=\"1\" class=\"dataframe\">\n",
       "  <thead>\n",
       "    <tr style=\"text-align: right;\">\n",
       "      <th></th>\n",
       "      <th>additives_n</th>\n",
       "      <th>ingredients_from_palm_oil_n</th>\n",
       "      <th>ingredients_that_may_be_from_palm_oil_n</th>\n",
       "      <th>energy_100g</th>\n",
       "      <th>fat_100g</th>\n",
       "      <th>saturated_fat_100g</th>\n",
       "      <th>carbohydrates_100g</th>\n",
       "      <th>sugars_100g</th>\n",
       "      <th>proteins_100g</th>\n",
       "      <th>salt_100g</th>\n",
       "      <th>sodium_100g</th>\n",
       "      <th>carbon_footprint_100g</th>\n",
       "      <th>nutrition_score_fr_100g</th>\n",
       "      <th>nutrition_score_uk_100g</th>\n",
       "    </tr>\n",
       "  </thead>\n",
       "  <tbody>\n",
       "    <tr>\n",
       "      <th>0</th>\n",
       "      <td>0</td>\n",
       "      <td>0</td>\n",
       "      <td>0</td>\n",
       "      <td>83</td>\n",
       "      <td>0.5</td>\n",
       "      <td>0.0</td>\n",
       "      <td>3</td>\n",
       "      <td>0.3</td>\n",
       "      <td>1.1</td>\n",
       "      <td>0.2540</td>\n",
       "      <td>0.10</td>\n",
       "      <td>0.0</td>\n",
       "      <td>1</td>\n",
       "      <td>1</td>\n",
       "    </tr>\n",
       "    <tr>\n",
       "      <th>1</th>\n",
       "      <td>1</td>\n",
       "      <td>0</td>\n",
       "      <td>0</td>\n",
       "      <td>397</td>\n",
       "      <td>2.9</td>\n",
       "      <td>1.7</td>\n",
       "      <td>14</td>\n",
       "      <td>14.0</td>\n",
       "      <td>3.0</td>\n",
       "      <td>0.1016</td>\n",
       "      <td>0.04</td>\n",
       "      <td>193.4</td>\n",
       "      <td>4</td>\n",
       "      <td>4</td>\n",
       "    </tr>\n",
       "    <tr>\n",
       "      <th>2</th>\n",
       "      <td>1</td>\n",
       "      <td>0</td>\n",
       "      <td>0</td>\n",
       "      <td>55</td>\n",
       "      <td>0.1</td>\n",
       "      <td>0.1</td>\n",
       "      <td>7</td>\n",
       "      <td>5.0</td>\n",
       "      <td>5.0</td>\n",
       "      <td>0.1270</td>\n",
       "      <td>0.05</td>\n",
       "      <td>198.7</td>\n",
       "      <td>-6</td>\n",
       "      <td>-6</td>\n",
       "    </tr>\n",
       "    <tr>\n",
       "      <th>3</th>\n",
       "      <td>0</td>\n",
       "      <td>0</td>\n",
       "      <td>0</td>\n",
       "      <td>330</td>\n",
       "      <td>4.0</td>\n",
       "      <td>2.0</td>\n",
       "      <td>6</td>\n",
       "      <td>6.0</td>\n",
       "      <td>4.5</td>\n",
       "      <td>0.1524</td>\n",
       "      <td>0.06</td>\n",
       "      <td>221.6</td>\n",
       "      <td>0</td>\n",
       "      <td>0</td>\n",
       "    </tr>\n",
       "    <tr>\n",
       "      <th>4</th>\n",
       "      <td>2</td>\n",
       "      <td>0</td>\n",
       "      <td>0</td>\n",
       "      <td>251</td>\n",
       "      <td>0.9</td>\n",
       "      <td>0.5</td>\n",
       "      <td>10</td>\n",
       "      <td>10.0</td>\n",
       "      <td>2.5</td>\n",
       "      <td>0.1016</td>\n",
       "      <td>0.04</td>\n",
       "      <td>136.0</td>\n",
       "      <td>1</td>\n",
       "      <td>1</td>\n",
       "    </tr>\n",
       "  </tbody>\n",
       "</table>\n",
       "</div>"
      ],
      "text/plain": [
       "   additives_n  ingredients_from_palm_oil_n  \\\n",
       "0            0                            0   \n",
       "1            1                            0   \n",
       "2            1                            0   \n",
       "3            0                            0   \n",
       "4            2                            0   \n",
       "\n",
       "   ingredients_that_may_be_from_palm_oil_n  energy_100g  fat_100g  \\\n",
       "0                                        0           83       0.5   \n",
       "1                                        0          397       2.9   \n",
       "2                                        0           55       0.1   \n",
       "3                                        0          330       4.0   \n",
       "4                                        0          251       0.9   \n",
       "\n",
       "   saturated_fat_100g  carbohydrates_100g  sugars_100g  proteins_100g  \\\n",
       "0                 0.0                   3          0.3            1.1   \n",
       "1                 1.7                  14         14.0            3.0   \n",
       "2                 0.1                   7          5.0            5.0   \n",
       "3                 2.0                   6          6.0            4.5   \n",
       "4                 0.5                  10         10.0            2.5   \n",
       "\n",
       "   salt_100g  sodium_100g  carbon_footprint_100g  nutrition_score_fr_100g  \\\n",
       "0     0.2540         0.10                    0.0                        1   \n",
       "1     0.1016         0.04                  193.4                        4   \n",
       "2     0.1270         0.05                  198.7                       -6   \n",
       "3     0.1524         0.06                  221.6                        0   \n",
       "4     0.1016         0.04                  136.0                        1   \n",
       "\n",
       "   nutrition_score_uk_100g  \n",
       "0                        1  \n",
       "1                        4  \n",
       "2                       -6  \n",
       "3                        0  \n",
       "4                        1  "
      ]
     },
     "execution_count": 2,
     "metadata": {},
     "output_type": "execute_result"
    }
   ],
   "source": [
    "df = pd.read_csv(\"../data/simpel_carbonfoot_df.csv\")\n",
    "df.head()"
   ]
  },
  {
   "cell_type": "code",
   "execution_count": 3,
   "metadata": {
    "collapsed": false
   },
   "outputs": [
    {
     "data": {
      "text/plain": [
       "143"
      ]
     },
     "execution_count": 3,
     "metadata": {},
     "output_type": "execute_result"
    }
   ],
   "source": [
    "y = np.array(df.carbon_footprint_100g)\n",
    "X = np.array(df.drop(['carbon_footprint_100g'], axis = 1))\n",
    "len(y)"
   ]
  },
  {
   "cell_type": "markdown",
   "metadata": {},
   "source": [
    "## Compute pairwise differences"
   ]
  },
  {
   "cell_type": "code",
   "execution_count": 4,
   "metadata": {
    "collapsed": false
   },
   "outputs": [],
   "source": [
    "def pairwise_diffs(np_arr):\n",
    "    np_diffs = np.empty((len(np_arr)*(len(np_arr)-1)/2, np_arr.shape[1]))\n",
    "    start_ind = 0\n",
    "    for i in range(len(np_arr)-1):\n",
    "        sample = np_arr[i,:]\n",
    "        diffs = np.sqrt((np_arr[i+1:,:] - sample)**2)\n",
    "        end_ind = start_ind+len(diffs)\n",
    "        np_diffs[start_ind:end_ind,:] = diffs\n",
    "        start_ind = end_ind\n",
    "    return np_diffs"
   ]
  },
  {
   "cell_type": "code",
   "execution_count": 5,
   "metadata": {
    "collapsed": false
   },
   "outputs": [],
   "source": [
    "X_diffs = pairwise_diffs(X)\n",
    "y_diffs = pairwise_diffs(y[np.newaxis].T)"
   ]
  },
  {
   "cell_type": "code",
   "execution_count": 6,
   "metadata": {
    "collapsed": false
   },
   "outputs": [
    {
     "name": "stdout",
     "output_type": "stream",
     "text": [
      "(10153, 13)\n",
      "(10153, 1)\n",
      "448.978025549\n"
     ]
    }
   ],
   "source": [
    "print X_diffs.shape\n",
    "print y_diffs.shape\n",
    "print np.mean(y_diffs)"
   ]
  },
  {
   "cell_type": "code",
   "execution_count": 7,
   "metadata": {
    "collapsed": false
   },
   "outputs": [
    {
     "name": "stdout",
     "output_type": "stream",
     "text": [
      "120360.654457\n",
      "1.0\n",
      "0.998361433965\n"
     ]
    }
   ],
   "source": [
    "print np.linalg.norm(X_diffs)\n",
    "print np.linalg.norm(X_diffs/np.linalg.norm(X_diffs))\n",
    "print np.linalg.norm(np.dot(X_diffs.T/np.linalg.norm(X_diffs),X_diffs/np.linalg.norm(X_diffs)))"
   ]
  },
  {
   "cell_type": "markdown",
   "metadata": {},
   "source": [
    "## Learn optimal qeights"
   ]
  },
  {
   "cell_type": "code",
   "execution_count": 8,
   "metadata": {
    "collapsed": false
   },
   "outputs": [],
   "source": [
    "def optimize_weights(X_diffs, y_diffs):\n",
    "    #sc = (np.linalg.norm(np.dot(X_diffs.T,X_diffs)))**.5\n",
    "    sc = np.linalg.norm(X_diffs)\n",
    "    A = X_diffs/sc\n",
    "    b = y_diffs/sc\n",
    "    w = cvx.Variable(X_diffs.shape[1])\n",
    "    #objective = cvx.Minimize(cvx.sum_entries(cvx.huber(A*w - b,1000)))\n",
    "    objective = cvx.Minimize(cvx.norm(A*w - b,2))\n",
    "    constraints = [0 <= w]\n",
    "\n",
    "    prob = cvx.Problem(objective, constraints)\n",
    "    prob.solve()\n",
    "    return prob.status, w.value"
   ]
  },
  {
   "cell_type": "code",
   "execution_count": 9,
   "metadata": {
    "collapsed": false
   },
   "outputs": [],
   "source": [
    "statusprob, weights = optimize_weights(X_diffs, y_diffs)"
   ]
  },
  {
   "cell_type": "code",
   "execution_count": 10,
   "metadata": {
    "collapsed": false
   },
   "outputs": [
    {
     "data": {
      "text/plain": [
       "matrix([[   2.],\n",
       "        [   0.],\n",
       "        [   0.],\n",
       "        [   0.],\n",
       "        [   0.],\n",
       "        [  14.],\n",
       "        [   0.],\n",
       "        [   0.],\n",
       "        [  16.],\n",
       "        [ 156.],\n",
       "        [  29.],\n",
       "        [   4.],\n",
       "        [   0.]])"
      ]
     },
     "execution_count": 10,
     "metadata": {},
     "output_type": "execute_result"
    }
   ],
   "source": [
    "np.round(weights)"
   ]
  },
  {
   "cell_type": "markdown",
   "metadata": {},
   "source": [
    "## LOOCV KNN with weights"
   ]
  },
  {
   "cell_type": "code",
   "execution_count": 11,
   "metadata": {
    "collapsed": false
   },
   "outputs": [
    {
     "name": "stdout",
     "output_type": "stream",
     "text": [
      "mean resid 164.14701338\n",
      "median resid 42.5\n"
     ]
    }
   ],
   "source": [
    "loo = cross_validation.LeaveOneOut(len(y)-1)\n",
    "\n",
    "resid = []\n",
    "\n",
    "for train_index, test_index in loo:\n",
    "    X_train, X_test = X[train_index], X[test_index]\n",
    "    y_train, y_test = y[train_index], y[test_index]\n",
    "    '''\n",
    "    compute weights\n",
    "    '''\n",
    "    X_diffs = []\n",
    "    y_diffs = []\n",
    "    X_diffs = pairwise_diffs(X_train)\n",
    "    y_diffs = pairwise_diffs(y_train[np.newaxis].T)\n",
    "    statusprob, weights = optimize_weights(X_diffs, y_diffs)\n",
    "    '''\n",
    "    predict\n",
    "    '''\n",
    "    knn = neighbors.KNeighborsRegressor(n_neighbors=1)\n",
    "    y_pred = knn.fit(X_train*np.array(weights.T), y_train).predict(X_test*np.array(weights.T))\n",
    "    \n",
    "    resid.append(abs(y_pred - y_test))\n",
    "print 'mean resid', np.mean(resid)\n",
    "print 'median resid', np.median(resid)"
   ]
  },
  {
   "cell_type": "code",
   "execution_count": null,
   "metadata": {
    "collapsed": true
   },
   "outputs": [],
   "source": []
  }
 ],
 "metadata": {
  "kernelspec": {
   "display_name": "Python 2",
   "language": "python",
   "name": "python2"
  },
  "language_info": {
   "codemirror_mode": {
    "name": "ipython",
    "version": 2
   },
   "file_extension": ".py",
   "mimetype": "text/x-python",
   "name": "python",
   "nbconvert_exporter": "python",
   "pygments_lexer": "ipython2",
   "version": "2.7.11"
  }
 },
 "nbformat": 4,
 "nbformat_minor": 0
}
