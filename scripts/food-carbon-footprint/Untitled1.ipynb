{
 "cells": [
  {
   "cell_type": "code",
   "execution_count": 1,
   "metadata": {
    "collapsed": false
   },
   "outputs": [
    {
     "name": "stderr",
     "output_type": "stream",
     "text": [
      "Vendor:  Continuum Analytics, Inc.\n",
      "Package: mkl\n",
      "Message: trial mode expires in 27 days\n",
      "Vendor:  Continuum Analytics, Inc.\n",
      "Package: mkl\n",
      "Message: trial mode expires in 27 days\n"
     ]
    }
   ],
   "source": [
    "from sklearn import cross_validation\n",
    "import numpy as np\n",
    "import cvxpy as cvx"
   ]
  },
  {
   "cell_type": "code",
   "execution_count": 73,
   "metadata": {
    "collapsed": false
   },
   "outputs": [
    {
     "name": "stdout",
     "output_type": "stream",
     "text": [
      "184143871.382\n",
      "209535188.445\n",
      "1.13788847205\n"
     ]
    }
   ],
   "source": [
    "mult_fact = 1000000\n",
    "X_diffs = np.random.rand(10153, 13)*mult_fact\n",
    "y_diffs = np.random.rand(10153, 1)*mult_fact\n",
    "sc = (np.linalg.norm(np.dot(X_diffs.T,X_diffs)))**.5\n",
    "print sc\n",
    "A = X_diffs/sc\n",
    "print np.linalg.norm(X_diffs)\n",
    "print np.linalg.norm(A)"
   ]
  },
  {
   "cell_type": "code",
   "execution_count": 74,
   "metadata": {
    "collapsed": true
   },
   "outputs": [],
   "source": [
    "def optimize_weights(X_diffs, y_diffs):\n",
    "    #sc = np.linalg.norm(np.dot(X_diffs.T,X_diffs))\n",
    "    A = X_diffs/sc\n",
    "    b = y_diffs/sc\n",
    "    w = cvx.Variable(X_diffs.shape[1])\n",
    "    objective = cvx.Minimize(cvx.sum_entries(cvx.square(A*w - b)))\n",
    "    constraints = [0 <= w]\n",
    "\n",
    "    prob = cvx.Problem(objective, constraints)\n",
    "    prob.solve()\n",
    "    return prob.status, w.value"
   ]
  },
  {
   "cell_type": "code",
   "execution_count": 75,
   "metadata": {
    "collapsed": true
   },
   "outputs": [],
   "source": [
    "statusprob, weights = optimize_weights(X_diffs, y_diffs)"
   ]
  },
  {
   "cell_type": "code",
   "execution_count": 76,
   "metadata": {
    "collapsed": false
   },
   "outputs": [
    {
     "data": {
      "text/plain": [
       "matrix([[ 0.0636701 ],\n",
       "        [ 0.06912413],\n",
       "        [ 0.08322756],\n",
       "        [ 0.08553368],\n",
       "        [ 0.05498279],\n",
       "        [ 0.08777955],\n",
       "        [ 0.07008928],\n",
       "        [ 0.07770388],\n",
       "        [ 0.08088671],\n",
       "        [ 0.07751216],\n",
       "        [ 0.07685388],\n",
       "        [ 0.08435338],\n",
       "        [ 0.06747595]])"
      ]
     },
     "execution_count": 76,
     "metadata": {},
     "output_type": "execute_result"
    }
   ],
   "source": [
    "weights"
   ]
  },
  {
   "cell_type": "code",
   "execution_count": 77,
   "metadata": {
    "collapsed": true
   },
   "outputs": [],
   "source": [
    "import cvxopt"
   ]
  },
  {
   "cell_type": "code",
   "execution_count": 78,
   "metadata": {
    "collapsed": true
   },
   "outputs": [],
   "source": [
    "P = cvxopt.matrix(np.dot(X_diffs.T,X_diffs)/sc)\n",
    "q = cvxopt.matrix(-1*np.dot(X_diffs.T, y_diffs)/sc)\n",
    "G = cvxopt.matrix(-1*np.eye(13))\n",
    "h = cvxopt.matrix(np.zeros((13,1)))"
   ]
  },
  {
   "cell_type": "code",
   "execution_count": 79,
   "metadata": {
    "collapsed": false
   },
   "outputs": [
    {
     "name": "stdout",
     "output_type": "stream",
     "text": [
      "     pcost       dcost       gap    pres   dres\n",
      " 0: -6.7668e+06 -6.7668e+06  1e+00  0e+00  8e-08\n",
      "Optimal solution found.\n"
     ]
    }
   ],
   "source": [
    "sol = cvxopt.solvers.qp(P,q,G,h)"
   ]
  },
  {
   "cell_type": "code",
   "execution_count": 80,
   "metadata": {
    "collapsed": false
   },
   "outputs": [
    {
     "name": "stdout",
     "output_type": "stream",
     "text": [
      "[ 6.37e-02]\n",
      "[ 6.91e-02]\n",
      "[ 8.32e-02]\n",
      "[ 8.55e-02]\n",
      "[ 5.50e-02]\n",
      "[ 8.78e-02]\n",
      "[ 7.01e-02]\n",
      "[ 7.77e-02]\n",
      "[ 8.09e-02]\n",
      "[ 7.75e-02]\n",
      "[ 7.69e-02]\n",
      "[ 8.44e-02]\n",
      "[ 6.75e-02]\n",
      "\n"
     ]
    }
   ],
   "source": [
    "print(sol['x'])"
   ]
  },
  {
   "cell_type": "code",
   "execution_count": null,
   "metadata": {
    "collapsed": true
   },
   "outputs": [],
   "source": []
  }
 ],
 "metadata": {
  "kernelspec": {
   "display_name": "Python 2",
   "language": "python",
   "name": "python2"
  },
  "language_info": {
   "codemirror_mode": {
    "name": "ipython",
    "version": 2
   },
   "file_extension": ".py",
   "mimetype": "text/x-python",
   "name": "python",
   "nbconvert_exporter": "python",
   "pygments_lexer": "ipython2",
   "version": "2.7.11"
  }
 },
 "nbformat": 4,
 "nbformat_minor": 0
}
